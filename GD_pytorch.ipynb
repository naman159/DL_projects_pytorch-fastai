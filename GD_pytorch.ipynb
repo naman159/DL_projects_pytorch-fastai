{
  "nbformat": 4,
  "nbformat_minor": 0,
  "metadata": {
    "colab": {
      "name": "GD-pytorch.ipynb",
      "provenance": [],
      "collapsed_sections": []
    },
    "kernelspec": {
      "name": "python3",
      "display_name": "Python 3"
    }
  },
  "cells": [
    {
      "cell_type": "code",
      "metadata": {
        "id": "bkGVnZQR8FZc",
        "colab_type": "code",
        "colab": {}
      },
      "source": [
        "import torch\n",
        "import torch.nn as nn"
      ],
      "execution_count": 0,
      "outputs": []
    },
    {
      "cell_type": "markdown",
      "metadata": {
        "id": "412v5Z5rJ59p",
        "colab_type": "text"
      },
      "source": [
        "Equation:\n",
        "y = a1x1+a2 = a1x1 + a2x2, where x2 is a vector of ones."
      ]
    },
    {
      "cell_type": "code",
      "metadata": {
        "id": "YNpUCzBl8F63",
        "colab_type": "code",
        "colab": {}
      },
      "source": [
        "n = 200                 #Total number of data points "
      ],
      "execution_count": 0,
      "outputs": []
    },
    {
      "cell_type": "code",
      "metadata": {
        "id": "bDYEpYQL8RUi",
        "colab_type": "code",
        "colab": {}
      },
      "source": [
        "x = torch.ones(n, 2)      #Tensor of n*2, a rank 2 tensor"
      ],
      "execution_count": 0,
      "outputs": []
    },
    {
      "cell_type": "code",
      "metadata": {
        "id": "Jr_CPZNZ8UFO",
        "colab_type": "code",
        "colab": {
          "base_uri": "https://localhost:8080/",
          "height": 102
        },
        "outputId": "25b54245-40cc-499f-b13b-3b030bdc50f4"
      },
      "source": [
        "x[0:5]               #First column x1, second column x2     "
      ],
      "execution_count": 54,
      "outputs": [
        {
          "output_type": "execute_result",
          "data": {
            "text/plain": [
              "tensor([[1., 1.],\n",
              "        [1., 1.],\n",
              "        [1., 1.],\n",
              "        [1., 1.],\n",
              "        [1., 1.]])"
            ]
          },
          "metadata": {
            "tags": []
          },
          "execution_count": 54
        }
      ]
    },
    {
      "cell_type": "code",
      "metadata": {
        "id": "CAsUPXUU875o",
        "colab_type": "code",
        "colab": {
          "base_uri": "https://localhost:8080/",
          "height": 102
        },
        "outputId": "93352a40-b546-4a4b-dc6e-56dd54d6dbf0"
      },
      "source": [
        "x[:,0].uniform_(-1, 1)    #Uniform distribution of random values between -1 and 1 input in the place of the first column (x1)\n",
        "x[0:5]"
      ],
      "execution_count": 55,
      "outputs": [
        {
          "output_type": "execute_result",
          "data": {
            "text/plain": [
              "tensor([[ 0.0505,  1.0000],\n",
              "        [ 0.3855,  1.0000],\n",
              "        [-0.1043,  1.0000],\n",
              "        [-0.2934,  1.0000],\n",
              "        [-0.6030,  1.0000]])"
            ]
          },
          "metadata": {
            "tags": []
          },
          "execution_count": 55
        }
      ]
    },
    {
      "cell_type": "code",
      "metadata": {
        "id": "fTVriOi09JEy",
        "colab_type": "code",
        "colab": {
          "base_uri": "https://localhost:8080/",
          "height": 34
        },
        "outputId": "dcade9c0-f8be-424b-d8ca-af7d66ad13f3"
      },
      "source": [
        "a = torch.tensor([3.,2.0]); a #A rank 1 tensor, 3 represents a1, 2 represents a2"
      ],
      "execution_count": 56,
      "outputs": [
        {
          "output_type": "execute_result",
          "data": {
            "text/plain": [
              "tensor([3., 2.])"
            ]
          },
          "metadata": {
            "tags": []
          },
          "execution_count": 56
        }
      ]
    },
    {
      "cell_type": "code",
      "metadata": {
        "id": "rqNnHn8_iYYd",
        "colab_type": "code",
        "colab": {}
      },
      "source": [
        "y = x@a + torch.rand(n)       #y = a1x1 +  a2x2 (matrix multiplication of a and x) with the addition of some noise for n number of elements from torch.rand(n)"
      ],
      "execution_count": 0,
      "outputs": []
    },
    {
      "cell_type": "code",
      "metadata": {
        "id": "aafo6rnKJi64",
        "colab_type": "code",
        "colab": {
          "base_uri": "https://localhost:8080/",
          "height": 34
        },
        "outputId": "c8cac562-3388-484f-feb7-b648dc5135aa"
      },
      "source": [
        "y[0:3]                        #A rank 1 tensor. A vector of y values for the different points"
      ],
      "execution_count": 58,
      "outputs": [
        {
          "output_type": "execute_result",
          "data": {
            "text/plain": [
              "tensor([2.6425, 4.0185, 2.0452])"
            ]
          },
          "metadata": {
            "tags": []
          },
          "execution_count": 58
        }
      ]
    },
    {
      "cell_type": "code",
      "metadata": {
        "id": "tcStBcgENAcp",
        "colab_type": "code",
        "colab": {}
      },
      "source": [
        "import matplotlib.pyplot as plt"
      ],
      "execution_count": 0,
      "outputs": []
    },
    {
      "cell_type": "code",
      "metadata": {
        "id": "TnOljxvcJkeb",
        "colab_type": "code",
        "colab": {
          "base_uri": "https://localhost:8080/",
          "height": 284
        },
        "outputId": "776f2871-77ad-4584-d0ac-28cfbc87f88f"
      },
      "source": [
        "plt.scatter(x[:,0], y)        #The second column of x is useless as it contains only ones which were used to make matric vector multiplication easier for us"
      ],
      "execution_count": 60,
      "outputs": [
        {
          "output_type": "execute_result",
          "data": {
            "text/plain": [
              "<matplotlib.collections.PathCollection at 0x7ff0cd914780>"
            ]
          },
          "metadata": {
            "tags": []
          },
          "execution_count": 60
        },
        {
          "output_type": "display_data",
          "data": {
            "image/png": "[encoded data removed]",
            "text/plain": [
              "<Figure size 432x288 with 1 Axes>"
            ]
          },
          "metadata": {
            "tags": [],
            "needs_background": "light"
          }
        }
      ]
    },
    {
      "cell_type": "markdown",
      "metadata": {
        "id": "1AF_PmMiOlLF",
        "colab_type": "text"
      },
      "source": [
        "a is a coefficient/parameter/weight we do not know normally. In the current case we defined it to understand how SGD and neural nets work. Our primary purpose is to best approximate the value of a. So, moving forward we will assume that we do not have the value of a."
      ]
    },
    {
      "cell_type": "code",
      "metadata": {
        "id": "-vBtZLaiM9IH",
        "colab_type": "code",
        "colab": {}
      },
      "source": [
        "#Mean Sqaured Error function to find the loss\n",
        "def mse(y_hat, y):          #y_hat is the prediction\n",
        "  return ((y_hat-y)**2).mean()      #Defintion of MSE\n"
      ],
      "execution_count": 0,
      "outputs": []
    },
    {
      "cell_type": "code",
      "metadata": {
        "id": "502r-JY4QxDO",
        "colab_type": "code",
        "colab": {
          "base_uri": "https://localhost:8080/",
          "height": 34
        },
        "outputId": "c514a578-5f3e-4400-e4fb-645a40c41cec"
      },
      "source": [
        "#If we assume or guess that a = (1.0,1.0)\n",
        "a = torch.tensor([-1.,-1.])\n",
        "a"
      ],
      "execution_count": 62,
      "outputs": [
        {
          "output_type": "execute_result",
          "data": {
            "text/plain": [
              "tensor([-1., -1.])"
            ]
          },
          "metadata": {
            "tags": []
          },
          "execution_count": 62
        }
      ]
    },
    {
      "cell_type": "code",
      "metadata": {
        "id": "Oht7zunPRj5P",
        "colab_type": "code",
        "colab": {}
      },
      "source": [
        "y_hat = x@a       #our prediction for y, y_hat will be x*a"
      ],
      "execution_count": 0,
      "outputs": []
    },
    {
      "cell_type": "code",
      "metadata": {
        "id": "LWIbwLnQRpwg",
        "colab_type": "code",
        "colab": {
          "base_uri": "https://localhost:8080/",
          "height": 34
        },
        "outputId": "3bdd4962-5715-4294-d604-8d88f3bb377d"
      },
      "source": [
        "mse(y_hat, y)     #The mean sqaured error find the loss for this prediction"
      ],
      "execution_count": 64,
      "outputs": [
        {
          "output_type": "execute_result",
          "data": {
            "text/plain": [
              "tensor(16.4461)"
            ]
          },
          "metadata": {
            "tags": []
          },
          "execution_count": 64
        }
      ]
    },
    {
      "cell_type": "code",
      "metadata": {
        "id": "rfY0tvXDRvKy",
        "colab_type": "code",
        "colab": {
          "base_uri": "https://localhost:8080/",
          "height": 283
        },
        "outputId": "139abd91-8d15-4fce-fca4-2fb9971f04cd"
      },
      "source": [
        "plt.scatter(x[:,0], y)          #Represents the dataset\n",
        "plt.scatter(x[:,0], y_hat)      #Represents the supposed best fit line (which i not accurate)"
      ],
      "execution_count": 65,
      "outputs": [
        {
          "output_type": "execute_result",
          "data": {
            "text/plain": [
              "<matplotlib.collections.PathCollection at 0x7ff0cd979080>"
            ]
          },
          "metadata": {
            "tags": []
          },
          "execution_count": 65
        },
        {
          "output_type": "display_data",
          "data": {
            "image/png": "[encoded data removed]",
            "text/plain": [
              "<Figure size 432x288 with 1 Axes>"
            ]
          },
          "metadata": {
            "tags": [],
            "needs_background": "light"
          }
        }
      ]
    },
    {
      "cell_type": "markdown",
      "metadata": {
        "id": "oxEaKxXqSx8f",
        "colab_type": "text"
      },
      "source": [
        "# ***Gradient Descent:***\n",
        "It is the way to minimize the loss function"
      ]
    },
    {
      "cell_type": "code",
      "metadata": {
        "id": "O6_gMfVQ3f82",
        "colab_type": "code",
        "colab": {
          "base_uri": "https://localhost:8080/",
          "height": 51
        },
        "outputId": "ead0282c-72aa-4956-be65-b104b8a74c18"
      },
      "source": [
        "a = nn.Parameter(a); a"
      ],
      "execution_count": 66,
      "outputs": [
        {
          "output_type": "execute_result",
          "data": {
            "text/plain": [
              "Parameter containing:\n",
              "tensor([-1., -1.], requires_grad=True)"
            ]
          },
          "metadata": {
            "tags": []
          },
          "execution_count": 66
        }
      ]
    },
    {
      "cell_type": "code",
      "metadata": {
        "id": "hKs28WLKSWGm",
        "colab_type": "code",
        "colab": {}
      },
      "source": [
        "def update():             #Updating the weight\n",
        "  y_hat = x@a\n",
        "  loss = mse(y_hat, y)\n",
        "  if t%5==0:\n",
        "    print(loss)\n",
        "  loss.backward()\n",
        "  with torch.no_grad():\n",
        "    a.sub_(lr * a.grad)\n",
        "    a.grad.zero_()"
      ],
      "execution_count": 0,
      "outputs": []
    },
    {
      "cell_type": "code",
      "metadata": {
        "id": "1OdLG1kYtqPG",
        "colab_type": "code",
        "colab": {
          "base_uri": "https://localhost:8080/",
          "height": 357
        },
        "outputId": "87abf11b-e9a5-4a49-820f-a7e2556251de"
      },
      "source": [
        "lr = 1e-1\n",
        "for t in range(100):\n",
        "  update()"
      ],
      "execution_count": 68,
      "outputs": [
        {
          "output_type": "stream",
          "text": [
            "tensor(16.4461, grad_fn=<MeanBackward0>)\n",
            "tensor(4.0309, grad_fn=<MeanBackward0>)\n",
            "tensor(1.6446, grad_fn=<MeanBackward0>)\n",
            "tensor(0.8403, grad_fn=<MeanBackward0>)\n",
            "tensor(0.4692, grad_fn=<MeanBackward0>)\n",
            "tensor(0.2815, grad_fn=<MeanBackward0>)\n",
            "tensor(0.1845, grad_fn=<MeanBackward0>)\n",
            "tensor(0.1342, grad_fn=<MeanBackward0>)\n",
            "tensor(0.1081, grad_fn=<MeanBackward0>)\n",
            "tensor(0.0945, grad_fn=<MeanBackward0>)\n",
            "tensor(0.0875, grad_fn=<MeanBackward0>)\n",
            "tensor(0.0838, grad_fn=<MeanBackward0>)\n",
            "tensor(0.0819, grad_fn=<MeanBackward0>)\n",
            "tensor(0.0809, grad_fn=<MeanBackward0>)\n",
            "tensor(0.0804, grad_fn=<MeanBackward0>)\n",
            "tensor(0.0802, grad_fn=<MeanBackward0>)\n",
            "tensor(0.0800, grad_fn=<MeanBackward0>)\n",
            "tensor(0.0799, grad_fn=<MeanBackward0>)\n",
            "tensor(0.0799, grad_fn=<MeanBackward0>)\n",
            "tensor(0.0799, grad_fn=<MeanBackward0>)\n"
          ],
          "name": "stdout"
        }
      ]
    },
    {
      "cell_type": "code",
      "metadata": {
        "id": "Xqro5XWZwzfd",
        "colab_type": "code",
        "colab": {
          "base_uri": "https://localhost:8080/",
          "height": 284
        },
        "outputId": "39204f16-aa85-4d4f-ba35-09033e261ada"
      },
      "source": [
        "a = a.detach().numpy()\n",
        "plt.scatter(x[:,0], y) \n",
        "plt.scatter(x[:,0], x@a)"
      ],
      "execution_count": 69,
      "outputs": [
        {
          "output_type": "execute_result",
          "data": {
            "text/plain": [
              "<matplotlib.collections.PathCollection at 0x7ff0cdb95a58>"
            ]
          },
          "metadata": {
            "tags": []
          },
          "execution_count": 69
        },
        {
          "output_type": "display_data",
          "data": {
            "image/png": "[encoded data removed]",
            "text/plain": [
              "<Figure size 432x288 with 1 Axes>"
            ]
          },
          "metadata": {
            "tags": [],
            "needs_background": "light"
          }
        }
      ]
    },
    {
      "cell_type": "code",
      "metadata": {
        "id": "Y9_znVgZwXkd",
        "colab_type": "code",
        "colab": {}
      },
      "source": [
        ""
      ],
      "execution_count": 0,
      "outputs": []
    }
  ]
}